{
 "cells": [
  {
   "cell_type": "code",
   "execution_count": 18,
   "metadata": {},
   "outputs": [],
   "source": [
    "import os\n",
    "import glob\n",
    "import numpy as np\n",
    "from PIL import Image, ImageOps\n",
    "import tensorflow as tf\n",
    "import gradio as gr\n",
    "\n",
    "from utils.prediction import get_sr_image\n",
    "from utils.config import config\n",
    "\n"
   ]
  },
  {
   "cell_type": "code",
   "execution_count": 2,
   "metadata": {},
   "outputs": [],
   "source": [
    "def load_image(path):\n",
    "    img = Image.open(path)\n",
    "    \n",
    "    was_grayscale = len(img.getbands()) == 1\n",
    "    \n",
    "    if was_grayscale or len(img.getbands()) == 4:\n",
    "        img = img.convert('RGB')\n",
    "    \n",
    "    return was_grayscale, np.array(img)"
   ]
  },
  {
   "cell_type": "code",
   "execution_count": 12,
   "metadata": {},
   "outputs": [],
   "source": [
    "# model_name = \"srresnet\"\n",
    "model_name = \"srgan\""
   ]
  },
  {
   "cell_type": "code",
   "execution_count": 13,
   "metadata": {},
   "outputs": [],
   "source": [
    "model_key = f\"{model_name}\""
   ]
  },
  {
   "cell_type": "code",
   "execution_count": 14,
   "metadata": {},
   "outputs": [],
   "source": [
    "weights_directory = os.path.abspath(f\"weights/{model_key}\")\n",
    "\n",
    "file_path = os.path.join(weights_directory, \"generator.h5\")"
   ]
  },
  {
   "cell_type": "code",
   "execution_count": 6,
   "metadata": {},
   "outputs": [],
   "source": [
    "import tensorflow as tf\n",
    "from tensorflow.keras.models import Model\n",
    "from tensorflow.keras.layers import Input, Conv2D, BatchNormalization, Add, Lambda\n",
    "from tensorflow.python.keras.layers import PReLU\n",
    "\n",
    "from utils.normalization import normalize_01, denormalize_m11\n",
    "\n",
    "\n",
    "upsamples_per_scale = {\n",
    "    2: 1,\n",
    "    4: 2,\n",
    "    8: 3\n",
    "}\n",
    "\n",
    "\n",
    "def pixel_shuffle(scale):\n",
    "    return lambda x: tf.nn.depth_to_space(x, scale)\n",
    "\n",
    "\n",
    "def upsample(x_in, num_filters):\n",
    "    x = Conv2D(num_filters, kernel_size=3, padding='same')(x_in)\n",
    "    x = Lambda(pixel_shuffle(scale=2))(x)\n",
    "    return PReLU(shared_axes=[1, 2])(x)\n",
    "\n",
    "\n",
    "def residual_block(block_input, num_filters, momentum=0.8):\n",
    "    x = Conv2D(num_filters, kernel_size=3, padding='same')(block_input)\n",
    "    x = BatchNormalization(momentum=momentum)(x)\n",
    "    x = PReLU(shared_axes=[1, 2])(x)\n",
    "    x = Conv2D(num_filters, kernel_size=3, padding='same')(x)\n",
    "    x = BatchNormalization(momentum=momentum)(x)\n",
    "    x = Add()([block_input, x])\n",
    "    return x\n",
    "\n",
    "\n",
    "def build_srresnet(scale=4, num_filters=64, num_res_blocks=16):\n",
    "    if scale not in upsamples_per_scale:\n",
    "        raise ValueError(f\"available scales are: {upsamples_per_scale.keys()}\")\n",
    "\n",
    "    num_upsamples = upsamples_per_scale[scale]\n",
    "\n",
    "    lr = Input(shape=(None, None, 3))\n",
    "    x = Lambda(normalize_01)(lr)\n",
    "\n",
    "    x = Conv2D(num_filters, kernel_size=9, padding='same')(x)\n",
    "    x = x_1 = PReLU(shared_axes=[1, 2])(x)\n",
    "\n",
    "    for _ in range(num_res_blocks):\n",
    "        x = residual_block(x, num_filters)\n",
    "\n",
    "    x = Conv2D(num_filters, kernel_size=3, padding='same')(x)\n",
    "    x = BatchNormalization()(x)\n",
    "    x = Add()([x_1, x])\n",
    "\n",
    "    for _ in range(num_upsamples):\n",
    "        x = upsample(x, num_filters * 4)\n",
    "\n",
    "    x = Conv2D(3, kernel_size=9, padding='same', activation='tanh')(x)\n",
    "    sr = Lambda(denormalize_m11)(x)\n",
    "\n",
    "    return Model(lr, sr)\n"
   ]
  },
  {
   "cell_type": "code",
   "execution_count": 15,
   "metadata": {},
   "outputs": [],
   "source": [
    "\n",
    "\n",
    "model = build_srresnet(scale=4)\n",
    "\n",
    "os.makedirs(weights_directory, exist_ok=True)\n",
    "weights_file = f'{weights_directory}/generator.h5'\n",
    "\n",
    "\n",
    "model.load_weights(weights_file)\n",
    "\n",
    "results_path = f\"output/{model_key}/\"\n",
    "\n",
    "os.makedirs(results_path, exist_ok=True)\n",
    "\n"
   ]
  },
  {
   "cell_type": "code",
   "execution_count": 26,
   "metadata": {},
   "outputs": [
    {
     "name": "stdout",
     "output_type": "stream",
     "text": [
      "input\\test_image_demo_degraded.jpg\n",
      "1/1 [==============================] - 3s 3s/step\n"
     ]
    }
   ],
   "source": [
    "image_paths = glob.glob(\"input/*\")\n",
    "\n",
    "for image_path in image_paths:\n",
    "    print(image_path)\n",
    "    was_grayscale, lr = load_image(image_path)\n",
    "    \n",
    "    sr = get_sr_image(model, lr)\n",
    "        \n",
    "    if was_grayscale:\n",
    "        sr = ImageOps.grayscale(sr)\n",
    "    \n",
    "\n",
    "    image_name = image_path.split(\"\\\\\")[-1]\n",
    "    sr.save(f\"{results_path}{image_name}\" )"
   ]
  },
  {
   "cell_type": "code",
   "execution_count": 27,
   "metadata": {},
   "outputs": [],
   "source": [
    "def use_srresnet(image):\n",
    "    \n",
    "    lr = image\n",
    "    \n",
    "    model = build_srresnet(scale=4)\n",
    "    model_key = f\"srresnet\"\n",
    "    weights_directory = os.path.abspath(f\"weights/{model_key}\")\n",
    "    os.makedirs(weights_directory, exist_ok=True)\n",
    "    weights_file = f'{weights_directory}/generator.h5'\n",
    "    model.load_weights(weights_file)\n",
    "\n",
    "    sr = get_sr_image(model, lr)\n",
    "    \n",
    "    return sr\n",
    "\n",
    "def use_srgan(image):\n",
    "        \n",
    "        lr = image\n",
    "        \n",
    "        model = build_srresnet(scale=4)\n",
    "        model_key = f\"srgan\"\n",
    "        weights_directory = os.path.abspath(f\"weights/{model_key}\")\n",
    "        os.makedirs(weights_directory, exist_ok=True)\n",
    "        weights_file = f'{weights_directory}/generator.h5'\n",
    "        model.load_weights(weights_file)\n",
    "    \n",
    "        sr = get_sr_image(model, lr)\n",
    "        \n",
    "        return sr\n"
   ]
  },
  {
   "cell_type": "code",
   "execution_count": 31,
   "metadata": {},
   "outputs": [
    {
     "name": "stdout",
     "output_type": "stream",
     "text": [
      "Running on local URL:  http://127.0.0.1:7867\n",
      "\n",
      "To create a public link, set `share=True` in `launch()`.\n"
     ]
    },
    {
     "data": {
      "text/html": [
       "<div><iframe src=\"http://127.0.0.1:7867/\" width=\"100%\" height=\"500\" allow=\"autoplay; camera; microphone; clipboard-read; clipboard-write;\" frameborder=\"0\" allowfullscreen></iframe></div>"
      ],
      "text/plain": [
       "<IPython.core.display.HTML object>"
      ]
     },
     "metadata": {},
     "output_type": "display_data"
    },
    {
     "data": {
      "text/plain": []
     },
     "execution_count": 31,
     "metadata": {},
     "output_type": "execute_result"
    }
   ],
   "source": [
    "with gr.Blocks() as demo:\n",
    "\n",
    "    image = gr.Image(label=\"Input low resolution image\")\n",
    "    with gr.Row():\n",
    "        \n",
    "        button_use_srresnet = gr.Button(\"Use SRResNet\")\n",
    "        button_use_srgan = gr.Button(\"Use SRGAN\")\n",
    "    \n",
    "    with gr.Row():\n",
    "        output_srresnet = gr.Image(label=\"Output SRResNet\")\n",
    "        output_srgan = gr.Image(label=\"Output SRGAN\")\n",
    "\n",
    "    button_use_srresnet.click(fn=use_srresnet, inputs=[image], outputs=[output_srresnet],api_name=\"SRResNet\")\n",
    "    button_use_srgan.click(fn=use_srgan, inputs=[image], outputs=[output_srgan],api_name=\"SRGAN\")\n",
    "\n",
    "demo.launch()"
   ]
  }
 ],
 "metadata": {
  "kernelspec": {
   "display_name": "Python 3",
   "language": "python",
   "name": "python3"
  },
  "language_info": {
   "codemirror_mode": {
    "name": "ipython",
    "version": 3
   },
   "file_extension": ".py",
   "mimetype": "text/x-python",
   "name": "python",
   "nbconvert_exporter": "python",
   "pygments_lexer": "ipython3",
   "version": "3.11.3"
  }
 },
 "nbformat": 4,
 "nbformat_minor": 2
}
